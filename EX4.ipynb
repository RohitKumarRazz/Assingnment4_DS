{
  "nbformat": 4,
  "nbformat_minor": 0,
  "metadata": {
    "colab": {
      "provenance": []
    },
    "kernelspec": {
      "name": "python3",
      "display_name": "Python 3"
    },
    "language_info": {
      "name": "python"
    }
  },
  "cells": [
    {
      "cell_type": "code",
      "source": [],
      "metadata": {
        "id": "Ga16JEYAQNK7"
      },
      "execution_count": null,
      "outputs": []
    },
    {
      "cell_type": "code",
      "execution_count": 7,
      "metadata": {
        "colab": {
          "base_uri": "https://localhost:8080/"
        },
        "id": "6azSQKPmM6yq",
        "outputId": "8df3518c-1bad-47f9-a38b-bfa8a8db3f1d"
      },
      "outputs": [
        {
          "output_type": "stream",
          "name": "stdout",
          "text": [
            "                            OLS Regression Results                            \n",
            "==============================================================================\n",
            "Dep. Variable:                 target   R-squared:                       0.409\n",
            "Model:                            OLS   Adj. R-squared:                  0.406\n",
            "Method:                 Least Squares   F-statistic:                     141.3\n",
            "Date:                Fri, 21 Apr 2023   Prob (F-statistic):          6.88e-114\n",
            "Time:                        19:21:11   Log-Likelihood:                -473.70\n",
            "No. Observations:                1025   AIC:                             959.4\n",
            "Df Residuals:                    1019   BIC:                             989.0\n",
            "Df Model:                           5                                         \n",
            "Covariance Type:            nonrobust                                         \n",
            "==============================================================================\n",
            "                 coef    std err          t      P>|t|      [0.025      0.975]\n",
            "------------------------------------------------------------------------------\n",
            "const          1.4047      0.110     12.767      0.000       1.189       1.621\n",
            "sex           -0.2818      0.027    -10.625      0.000      -0.334      -0.230\n",
            "age           -0.0080      0.001     -5.683      0.000      -0.011      -0.005\n",
            "cp             0.1762      0.012     14.765      0.000       0.153       0.200\n",
            "trestbps      -0.0022      0.001     -2.987      0.003      -0.004      -0.001\n",
            "oldpeak       -0.1314      0.011    -12.151      0.000      -0.153      -0.110\n",
            "==============================================================================\n",
            "Omnibus:                       31.302   Durbin-Watson:                   1.929\n",
            "Prob(Omnibus):                  0.000   Jarque-Bera (JB):               15.974\n",
            "Skew:                          -0.081   Prob(JB):                     0.000340\n",
            "Kurtosis:                       2.411   Cond. No.                     1.32e+03\n",
            "==============================================================================\n",
            "\n",
            "Notes:\n",
            "[1] Standard Errors assume that the covariance matrix of the errors is correctly specified.\n",
            "[2] The condition number is large, 1.32e+03. This might indicate that there are\n",
            "strong multicollinearity or other numerical problems.\n"
          ]
        }
      ],
      "source": [
        "import pandas as pd\n",
        "import statsmodels.api as sm\n",
        "\n",
        "heart_disease_data = pd.read_csv('Heart Disease data.csv')\n",
        "\n",
        "x = heart_disease_data[['sex', 'age','cp','trestbps','oldpeak']]\n",
        "x = sm.add_constant(x)\n",
        "y = heart_disease_data['target']\n",
        "\n",
        "\n",
        "regression_model = sm.OLS(y, x)\n",
        "regression_results = regression_model.fit()\n",
        "\n",
        "print(regression_results.summary())\n"
      ]
    }
  ]
}